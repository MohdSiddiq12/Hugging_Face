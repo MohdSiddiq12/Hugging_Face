{
 "cells": [
  {
   "cell_type": "code",
   "execution_count": 2,
   "metadata": {},
   "outputs": [],
   "source": [
    "model_name = \"deepset/roberta-base-squad2\""
   ]
  },
  {
   "cell_type": "code",
   "execution_count": 20,
   "metadata": {},
   "outputs": [],
   "source": [
    "# a) Get predictions\n",
    "nlp = pipeline('question-answering', model=model_name, tokenizer=model_name)\n"
   ]
  },
  {
   "cell_type": "code",
   "execution_count": 19,
   "metadata": {},
   "outputs": [],
   "source": [
    "# send a GET request to the API endpoint and retrieve the dataset\n",
    "url = \"https://datasets-server.huggingface.co/splits?dataset=bhuvaneshprasad%2Ft20i-cricket-dataset-2005-2014\"\n",
    "response = requests.get(url)\n",
    "data = response.json()"
   ]
  },
  {
   "cell_type": "code",
   "execution_count": 13,
   "metadata": {},
   "outputs": [],
   "source": [
    "# b) Load model & tokenizer\n",
    "model = AutoModelForQuestionAnswering.from_pretrained(model_name)\n",
    "tokenizer = AutoTokenizer.from_pretrained(model_name)"
   ]
  },
  {
   "cell_type": "code",
   "execution_count": 33,
   "metadata": {},
   "outputs": [],
   "source": [
    "# specify the encoding of the text file\n",
    "encoding = 'utf-8'\n"
   ]
  },
  {
   "cell_type": "code",
   "execution_count": 35,
   "metadata": {},
   "outputs": [
    {
     "name": "stderr",
     "output_type": "stream",
     "text": [
      "<>:1: SyntaxWarning: invalid escape sequence '\\H'\n",
      "<>:1: SyntaxWarning: invalid escape sequence '\\H'\n",
      "C:\\Users\\MohdS\\AppData\\Local\\Temp\\ipykernel_22312\\3817301289.py:1: SyntaxWarning: invalid escape sequence '\\H'\n",
      "  with open('D:\\Hugging_Face\\Question-Answering\\context.txt', 'r',encoding=encoding) as file:\n"
     ]
    }
   ],
   "source": [
    "with open('D:\\Hugging_Face\\Question-Answering\\context.txt', 'r',encoding=encoding) as file:\n",
    "    context = file.read()"
   ]
  },
  {
   "cell_type": "code",
   "execution_count": 38,
   "metadata": {},
   "outputs": [],
   "source": [
    "# ask questions from the dataset\n",
    "questions = [\"What techniques are used to trick dopamine?\",\n",
    "             \"explain in depth about the various techniques in dopamine detox?\"]"
   ]
  },
  {
   "cell_type": "code",
   "execution_count": 39,
   "metadata": {},
   "outputs": [
    {
     "name": "stdout",
     "output_type": "stream",
     "text": [
      "Question: What techniques are used to trick dopamine?\n",
      "Answer: a dopamine detox\n",
      "Question: explain in depth about the various techniques in dopamine detox?\n",
      "Answer: because you feel bored making those boring stuff more fun\n"
     ]
    }
   ],
   "source": [
    "for question in questions:\n",
    "    QA_input = {\n",
    "        'question': question,\n",
    "        'context': context\n",
    "    }\n",
    "    res = nlp(QA_input)\n",
    "    print(f\"Question: {question}\")\n",
    "    print(f\"Answer: {res['answer']}\")"
   ]
  }
 ],
 "metadata": {
  "kernelspec": {
   "display_name": "myenv",
   "language": "python",
   "name": "python3"
  },
  "language_info": {
   "codemirror_mode": {
    "name": "ipython",
    "version": 3
   },
   "file_extension": ".py",
   "mimetype": "text/x-python",
   "name": "python",
   "nbconvert_exporter": "python",
   "pygments_lexer": "ipython3",
   "version": "3.12.2"
  }
 },
 "nbformat": 4,
 "nbformat_minor": 2
}
