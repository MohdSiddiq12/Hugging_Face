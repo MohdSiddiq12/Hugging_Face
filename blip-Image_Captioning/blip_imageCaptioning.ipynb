{
  "nbformat": 4,
  "nbformat_minor": 0,
  "metadata": {
    "colab": {
      "provenance": [],
      "authorship_tag": "ABX9TyMOfhKjljafto1dlpbfXu1k",
      "include_colab_link": true
    },
    "kernelspec": {
      "name": "python3",
      "display_name": "Python 3"
    },
    "language_info": {
      "name": "python"
    }
  },
  "cells": [
    {
      "cell_type": "markdown",
      "metadata": {
        "id": "view-in-github",
        "colab_type": "text"
      },
      "source": [
        "<a href=\"https://colab.research.google.com/github/MohdSiddiq12/Hugging_Face/blob/main/blip_imageCaptioning.ipynb\" target=\"_parent\"><img src=\"https://colab.research.google.com/assets/colab-badge.svg\" alt=\"Open In Colab\"/></a>"
      ]
    },
    {
      "cell_type": "code",
      "execution_count": null,
      "metadata": {
        "id": "x7bFMYEH7LJN"
      },
      "outputs": [],
      "source": [
        "!pip install transformers\n",
        "!pip install gradio\n",
        "!pip install gradio_client\n"
      ]
    },
    {
      "cell_type": "code",
      "source": [
        "!pip install torch"
      ],
      "metadata": {
        "id": "55U5O5Xj_Flt"
      },
      "execution_count": null,
      "outputs": []
    },
    {
      "cell_type": "code",
      "source": [
        "from transformers.utils import logging\n",
        "logging.set_verbosity_error()\n",
        "\n",
        "import warnings\n",
        "warnings.filterwarnings(\"ignore\",\n",
        "                        message=\"Using the model-agnostic default `max_length`\")"
      ],
      "metadata": {
        "id": "jiTNpUfy7UpX"
      },
      "execution_count": 8,
      "outputs": []
    },
    {
      "cell_type": "markdown",
      "source": [],
      "metadata": {
        "id": "Ta8bXQhT_QDJ"
      }
    },
    {
      "cell_type": "code",
      "source": [
        "from transformers import pipeline\n",
        "import torch"
      ],
      "metadata": {
        "id": "MnDkW_YR_W0A"
      },
      "execution_count": 15,
      "outputs": []
    },
    {
      "cell_type": "code",
      "source": [
        "pipe = pipeline(\"image-to-text\",\n",
        "                model=\"Salesforce/blip-image-captioning-base\")"
      ],
      "metadata": {
        "id": "7hbXuEMM7Ur5"
      },
      "execution_count": null,
      "outputs": []
    },
    {
      "cell_type": "code",
      "source": [
        "import os\n",
        "import gradio as gr"
      ],
      "metadata": {
        "id": "VNzTwtwtARd4"
      },
      "execution_count": 22,
      "outputs": []
    },
    {
      "cell_type": "code",
      "source": [
        "iface = gr.Interface(launch,\n",
        "                     inputs=gr.Image(type='pil'),\n",
        "                     outputs=\"text\")"
      ],
      "metadata": {
        "id": "eqWZh_gd7bkz"
      },
      "execution_count": 23,
      "outputs": []
    },
    {
      "cell_type": "code",
      "source": [
        "pipe = pipeline(\"image-to-text\",\n",
        "                model=\"Salesforce/blip-image-captioning-base\")"
      ],
      "metadata": {
        "id": "ZPIS7LX07bnQ"
      },
      "execution_count": 33,
      "outputs": []
    },
    {
      "cell_type": "code",
      "source": [
        "def launch(input):\n",
        "    out = pipe(input)\n",
        "    return out[0]['generated_text']"
      ],
      "metadata": {
        "id": "K4PiQtmL8YOj"
      },
      "execution_count": 20,
      "outputs": []
    },
    {
      "cell_type": "code",
      "source": [
        "iface = gr.Interface(launch,\n",
        "                     inputs=gr.Image(type='pil'),\n",
        "                     outputs=\"text\")"
      ],
      "metadata": {
        "id": "-jPGhJ2ZAuc7"
      },
      "execution_count": 34,
      "outputs": []
    },
    {
      "cell_type": "code",
      "source": [
        "iface.launch()"
      ],
      "metadata": {
        "id": "JdIxvNgpCoop"
      },
      "execution_count": null,
      "outputs": []
    },
    {
      "cell_type": "code",
      "source": [],
      "metadata": {
        "id": "ifxppzSyCouM"
      },
      "execution_count": null,
      "outputs": []
    }
  ]
}